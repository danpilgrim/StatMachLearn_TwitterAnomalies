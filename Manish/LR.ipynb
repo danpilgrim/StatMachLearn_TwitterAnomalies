{
 "cells": [
  {
   "cell_type": "code",
   "execution_count": 37,
   "metadata": {},
   "outputs": [
    {
     "name": "stdout",
     "output_type": "stream",
     "text": [
      "<class 'pandas.core.frame.DataFrame'>\n",
      "RangeIndex: 362458 entries, 0 to 362457\n",
      "Data columns (total 2 columns):\n",
      "content    362458 non-null object\n",
      "Normal     362458 non-null int64\n",
      "dtypes: int64(1), object(1)\n",
      "memory usage: 5.5+ MB\n",
      "None\n"
     ]
    }
   ],
   "source": [
    "import glob\n",
    "import pandas as pd\n",
    "import os as os\n",
    "import matplotlib.pyplot as plt\n",
    "import numpy as np\n",
    "\n",
    "\n",
    "path =r'Data/'\n",
    "frame = pd.DataFrame()\n",
    "frame =pd.read_csv('Data/tweetData.csv',index_col=None, header=0, usecols=[1,2])\n",
    "print frame.info()"
   ]
  },
  {
   "cell_type": "code",
   "execution_count": 38,
   "metadata": {},
   "outputs": [
    {
     "name": "stdout",
     "output_type": "stream",
     "text": [
      "(362458, 2)\n",
      "                                             content  Normal\n",
      "0  Wind 3.2 mph NNE. Barometer 30.20 in, Rising s...       1\n",
      "1  Good. Morning. #morning #Saturday #diner #VT #...       1\n",
      "2  @gratefuldead recordstoredayus 🌹🌹🌹 @ TOMS M...       1\n",
      "3  Egg in a muffin!!! (@ Rocket Baby Bakery - @ro...       1\n",
      "4  @lyricwaters should've gave the neighbor  a bu...       1\n",
      "5  On the way to CT! (@ Mamaroneck, NY in Mamaron...       1\n",
      "6  We're #hiring! Read about our latest #job open...       1\n",
      "7  Me... @ Montgomery Scrap Corporation https://t...       1\n",
      "8  BAYADA Home Health Care: Home Health Registere...       1\n",
      "9  Shift Supervisor Trainee - CVS Health: (#OCEAN...       1\n"
     ]
    }
   ],
   "source": [
    "print frame.shape\n",
    "print frame.head(10)"
   ]
  },
  {
   "cell_type": "code",
   "execution_count": 39,
   "metadata": {},
   "outputs": [
    {
     "name": "stdout",
     "output_type": "stream",
     "text": [
      "0    190252\n",
      "1    172206\n",
      "Name: Normal, dtype: int64\n"
     ]
    }
   ],
   "source": [
    "print frame.Normal.value_counts()"
   ]
  },
  {
   "cell_type": "code",
   "execution_count": 40,
   "metadata": {},
   "outputs": [
    {
     "name": "stdout",
     "output_type": "stream",
     "text": [
      "(362458,)\n",
      "(362458,)\n"
     ]
    }
   ],
   "source": [
    "X = frame.content\n",
    "y = frame.Normal\n",
    "print X.shape\n",
    "print y.shape"
   ]
  },
  {
   "cell_type": "code",
   "execution_count": 41,
   "metadata": {},
   "outputs": [],
   "source": [
    "from sklearn.model_selection import train_test_split\n",
    "X_train, X_test, y_train, y_test = train_test_split(X, y, test_size=0.33)"
   ]
  },
  {
   "cell_type": "code",
   "execution_count": 42,
   "metadata": {},
   "outputs": [
    {
     "name": "stdout",
     "output_type": "stream",
     "text": [
      "(242846,)\n",
      "(119612,)\n",
      "(242846,)\n",
      "(119612,)\n"
     ]
    }
   ],
   "source": [
    "print X_train.shape\n",
    "print X_test.shape\n",
    "print y_train.shape\n",
    "print y_test.shape"
   ]
  },
  {
   "cell_type": "code",
   "execution_count": 43,
   "metadata": {},
   "outputs": [
    {
     "name": "stdout",
     "output_type": "stream",
     "text": [
      "[127555 115291]\n"
     ]
    }
   ],
   "source": [
    "print np.bincount(y_train)"
   ]
  },
  {
   "cell_type": "code",
   "execution_count": 22,
   "metadata": {},
   "outputs": [],
   "source": [
    "from sklearn.feature_extraction.text import CountVectorizer"
   ]
  },
  {
   "cell_type": "code",
   "execution_count": 23,
   "metadata": {},
   "outputs": [],
   "source": [
    "vectorizer = CountVectorizer()"
   ]
  },
  {
   "cell_type": "code",
   "execution_count": 44,
   "metadata": {},
   "outputs": [],
   "source": [
    "X_train = vectorizer.fit_transform(X_train)\n",
    "X_test = vectorizer.transform(X_test)"
   ]
  },
  {
   "cell_type": "code",
   "execution_count": 45,
   "metadata": {},
   "outputs": [],
   "source": [
    "feature_names = vectorizer.get_feature_names()"
   ]
  },
  {
   "cell_type": "code",
   "execution_count": 46,
   "metadata": {},
   "outputs": [
    {
     "name": "stdout",
     "output_type": "stream",
     "text": [
      "380277\n"
     ]
    }
   ],
   "source": [
    "print len(feature_names)"
   ]
  },
  {
   "cell_type": "code",
   "execution_count": 52,
   "metadata": {},
   "outputs": [
    {
     "name": "stdout",
     "output_type": "stream",
     "text": [
      "0.9258748297416808\n"
     ]
    }
   ],
   "source": [
    "import sklearn\n",
    "from sklearn.model_selection import cross_val_score\n",
    "from sklearn.linear_model import LogisticRegression\n",
    "scores = cross_val_score(LogisticRegression(), X_train, y_train,cv=5)\n",
    "print np.mean(scores)"
   ]
  },
  {
   "cell_type": "code",
   "execution_count": 53,
   "metadata": {},
   "outputs": [
    {
     "name": "stdout",
     "output_type": "stream",
     "text": [
      "0.9776978002520116\n",
      "0.9294134367789185\n"
     ]
    }
   ],
   "source": [
    "logreg = LogisticRegression()\n",
    "logreg.fit(X_train,y_train)\n",
    "print logreg.score(X_train,y_train)\n",
    "print logreg.score(X_test, y_test)"
   ]
  },
  {
   "cell_type": "code",
   "execution_count": 55,
   "metadata": {},
   "outputs": [
    {
     "name": "stdout",
     "output_type": "stream",
     "text": [
      "[[58769  3928]\n",
      " [ 4515 52400]]\n"
     ]
    }
   ],
   "source": [
    "from sklearn.metrics import confusion_matrix\n",
    "pred_logreg = logreg.predict(X_test)\n",
    "confusion = confusion_matrix(y_test, pred_logreg)\n",
    "print confusion"
   ]
  },
  {
   "cell_type": "code",
   "execution_count": 56,
   "metadata": {},
   "outputs": [
    {
     "name": "stdout",
     "output_type": "stream",
     "text": [
      "false positive : 3928\n",
      "false negative : 4515\n"
     ]
    }
   ],
   "source": [
    "print \"false positive : 3928\"\n",
    "print \"false negative : 4515\""
   ]
  },
  {
   "cell_type": "code",
   "execution_count": null,
   "metadata": {},
   "outputs": [],
   "source": [
    "naivebayes, randomforest"
   ]
  }
 ],
 "metadata": {
  "kernelspec": {
   "display_name": "Python 2",
   "language": "python",
   "name": "python2"
  },
  "language_info": {
   "codemirror_mode": {
    "name": "ipython",
    "version": 2
   },
   "file_extension": ".py",
   "mimetype": "text/x-python",
   "name": "python",
   "nbconvert_exporter": "python",
   "pygments_lexer": "ipython2",
   "version": "2.7.13"
  }
 },
 "nbformat": 4,
 "nbformat_minor": 2
}
