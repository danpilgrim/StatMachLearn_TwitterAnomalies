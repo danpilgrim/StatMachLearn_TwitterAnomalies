{
 "cells": [
  {
   "cell_type": "markdown",
   "metadata": {},
   "source": [
    "# Implementation of Support Vector Machine (SVM)\n",
    "\n",
    "We implemented svm in this notebook. As we know Support Vector Machine (SVM) is another great classifier that can be used to classify binary data. Below results will show that SVM performed very well in term of performance but took a really long time to train. We used only linear classifier, as there was no use to implement any kernel for binary data."
   ]
  },
  {
   "cell_type": "code",
   "execution_count": 1,
   "metadata": {},
   "outputs": [
    {
     "name": "stdout",
     "output_type": "stream",
     "text": [
      "<class 'pandas.core.frame.DataFrame'>\n",
      "RangeIndex: 362458 entries, 0 to 362457\n",
      "Data columns (total 2 columns):\n",
      "content    362458 non-null object\n",
      "Normal     362458 non-null int64\n",
      "dtypes: int64(1), object(1)\n",
      "memory usage: 5.5+ MB\n",
      "None\n",
      "(362458,)\n",
      "(362458,)\n",
      "380739\n"
     ]
    },
    {
     "data": {
      "text/plain": [
       "SVC(C=1.0, cache_size=200, class_weight=None, coef0=0.0,\n",
       "  decision_function_shape='ovr', degree=3, gamma='auto_deprecated',\n",
       "  kernel='linear', max_iter=-1, probability=False, random_state=None,\n",
       "  shrinking=True, tol=0.001, verbose=False)"
      ]
     },
     "execution_count": 1,
     "metadata": {},
     "output_type": "execute_result"
    }
   ],
   "source": [
    "import glob\n",
    "import os as os\n",
    "\n",
    "import matplotlib.pyplot as plt\n",
    "import numpy as np\n",
    "import pandas as pd\n",
    "\n",
    "path =r'Data/'\n",
    "frame = pd.DataFrame()\n",
    "frame =pd.read_csv('Data/tweetData.csv',index_col=None, header=0, usecols=[1,2])\n",
    "print (frame.info())\n",
    "X = frame.content\n",
    "y = frame.Normal\n",
    "print (X.shape)\n",
    "print (y.shape)\n",
    "from sklearn.model_selection import train_test_split\n",
    "X_train, X_test, y_train, y_test = train_test_split(X, y, test_size=0.33)\n",
    "from sklearn.feature_extraction.text import CountVectorizer\n",
    "vectorizer = CountVectorizer()\n",
    "X_train = vectorizer.fit_transform(X_train)\n",
    "X_test = vectorizer.transform(X_test)\n",
    "feature_names = vectorizer.get_feature_names()\n",
    "print (len(feature_names))\n",
    "from sklearn import svm\n",
    "clf = svm.SVC(kernel='linear', C = 1.0)\n",
    "clf.fit(X_train,y_train)"
   ]
  },
  {
   "cell_type": "code",
   "execution_count": 10,
   "metadata": {},
   "outputs": [
    {
     "name": "stdout",
     "output_type": "stream",
     "text": [
      "0.92828\n"
     ]
    }
   ],
   "source": [
    "print (clf.score(X_test,y_test))"
   ]
  },
  {
   "cell_type": "code",
   "execution_count": 16,
   "metadata": {},
   "outputs": [
    {
     "name": "stdout",
     "output_type": "stream",
     "text": [
      "[[49338  3114]\n",
      " [ 4058 43490]]\n"
     ]
    }
   ],
   "source": [
    "from sklearn.metrics import confusion_matrix\n",
    "pred_svm = clf.predict(X_test)\n",
    "confusion = confusion_matrix(y_test, pred_svm)\n",
    "print (confusion)"
   ]
  },
  {
   "cell_type": "code",
   "execution_count": 17,
   "metadata": {},
   "outputs": [
    {
     "name": "stdout",
     "output_type": "stream",
     "text": [
      "False positive : 3114\n",
      "False negative : 4058\n"
     ]
    }
   ],
   "source": [
    "print (\"False positive : 3114\")\n",
    "print (\"False negative : 4058\")"
   ]
  }
 ],
 "metadata": {
  "kernelspec": {
   "display_name": "Python 3",
   "language": "python",
   "name": "python3"
  },
  "language_info": {
   "codemirror_mode": {
    "name": "ipython",
    "version": 3
   },
   "file_extension": ".py",
   "mimetype": "text/x-python",
   "name": "python",
   "nbconvert_exporter": "python",
   "pygments_lexer": "ipython3",
   "version": "3.6.5"
  }
 },
 "nbformat": 4,
 "nbformat_minor": 2
}
