{
 "cells": [
  {
   "cell_type": "markdown",
   "metadata": {},
   "source": [
    "# Data Analysis\n",
    "\n",
    "we will do some basic data analysis in this file. We will take a look at how data is divided and how trolls behve. We will try to see a trend in language or which language they used for this purpose.This will give us a fair idea how to proceed with our preprocessing."
   ]
  },
  {
   "cell_type": "code",
   "execution_count": 15,
   "metadata": {},
   "outputs": [],
   "source": [
    "import glob\n",
    "import pandas as pd\n",
    "import os as os\n",
    "import matplotlib.pyplot as plt\n",
    "\n",
    "\n",
    "path =r'Data/russian_tweets/'\n",
    "allFiles = glob.glob(os.path.join(path, \"*.csv\"))\n",
    "frame = pd.DataFrame()\n",
    "list_ = []\n",
    "for file_ in allFiles:\n",
    "    df = pd.read_csv(file_,index_col=None, header=0)\n",
    "    list_.append(df)\n",
    "frame = pd.concat(list_)\n",
    "#print frame"
   ]
  },
  {
   "cell_type": "code",
   "execution_count": 16,
   "metadata": {},
   "outputs": [
    {
     "name": "stdout",
     "output_type": "stream",
     "text": [
      "(2973371, 15)\n"
     ]
    }
   ],
   "source": [
    "print frame.shape"
   ]
  },
  {
   "cell_type": "code",
   "execution_count": 3,
   "metadata": {},
   "outputs": [
    {
     "name": "stdout",
     "output_type": "stream",
     "text": [
      "       external_author_id           author  \\\n",
      "0            1.674084e+09       GAB1ALDANA   \n",
      "1            1.674084e+09       GAB1ALDANA   \n",
      "2            1.674084e+09       GAB1ALDANA   \n",
      "3            1.674084e+09       GAB1ALDANA   \n",
      "4            1.674084e+09       GAB1ALDANA   \n",
      "5            1.674084e+09       GAB1ALDANA   \n",
      "6            1.674084e+09       GAB1ALDANA   \n",
      "7            1.674084e+09       GAB1ALDANA   \n",
      "8            1.674084e+09       GAB1ALDANA   \n",
      "9            1.674084e+09       GAB1ALDANA   \n",
      "10           1.674084e+09       GAB1ALDANA   \n",
      "11           1.674084e+09       GAB1ALDANA   \n",
      "12           1.674084e+09       GAB1ALDANA   \n",
      "13           1.674084e+09       GAB1ALDANA   \n",
      "14           1.674084e+09       GAB1ALDANA   \n",
      "15           1.674084e+09       GAB1ALDANA   \n",
      "16           1.674084e+09       GAB1ALDANA   \n",
      "17           1.674084e+09       GAB1ALDANA   \n",
      "18           1.674084e+09       GAB1ALDANA   \n",
      "19           1.674084e+09       GAB1ALDANA   \n",
      "20           1.674084e+09       GAB1ALDANA   \n",
      "21           1.674084e+09       GAB1ALDANA   \n",
      "22           1.674084e+09       GAB1ALDANA   \n",
      "23           1.674084e+09       GAB1ALDANA   \n",
      "24           1.674084e+09       GAB1ALDANA   \n",
      "25           1.674084e+09       GAB1ALDANA   \n",
      "26           1.674084e+09       GAB1ALDANA   \n",
      "27           1.674084e+09       GAB1ALDANA   \n",
      "28           1.674084e+09       GAB1ALDANA   \n",
      "29           1.674084e+09       GAB1ALDANA   \n",
      "...                   ...              ...   \n",
      "37525        3.093874e+09  _YOUR_LIFESTYLE   \n",
      "37526        3.093874e+09  _YOUR_LIFESTYLE   \n",
      "37527        3.093874e+09  _YOUR_LIFESTYLE   \n",
      "37528        3.093874e+09  _YOUR_LIFESTYLE   \n",
      "37529        3.093874e+09  _YOUR_LIFESTYLE   \n",
      "37530        3.093874e+09  _YOUR_LIFESTYLE   \n",
      "37531        3.093874e+09  _YOUR_LIFESTYLE   \n",
      "37532        3.093874e+09  _YOUR_LIFESTYLE   \n",
      "37533        3.093874e+09  _YOUR_LIFESTYLE   \n",
      "37534        3.093874e+09  _YOUR_LIFESTYLE   \n",
      "37535        3.093874e+09  _YOUR_LIFESTYLE   \n",
      "37536        3.093874e+09  _YOUR_LIFESTYLE   \n",
      "37537        3.093874e+09  _YOUR_LIFESTYLE   \n",
      "37538        3.093874e+09  _YOUR_LIFESTYLE   \n",
      "37539        3.093874e+09  _YOUR_LIFESTYLE   \n",
      "37540        3.093874e+09  _YOUR_LIFESTYLE   \n",
      "37541        3.093874e+09  _YOUR_LIFESTYLE   \n",
      "37542        3.093874e+09  _YOUR_LIFESTYLE   \n",
      "37543        3.093874e+09  _YOUR_LIFESTYLE   \n",
      "37544        3.093874e+09  _YOUR_LIFESTYLE   \n",
      "37545        3.093874e+09  _YOUR_LIFESTYLE   \n",
      "37546        3.093874e+09  _YOUR_LIFESTYLE   \n",
      "37547        3.093874e+09  _YOUR_LIFESTYLE   \n",
      "37548        3.093874e+09  _YOUR_LIFESTYLE   \n",
      "37549        3.093874e+09  _YOUR_LIFESTYLE   \n",
      "37550        3.093874e+09  _YOUR_LIFESTYLE   \n",
      "37551        3.093874e+09  _YOUR_LIFESTYLE   \n",
      "37552        3.093874e+09  _YOUR_LIFESTYLE   \n",
      "37553        3.093874e+09  _YOUR_LIFESTYLE   \n",
      "37554        3.093874e+09  _YOUR_LIFESTYLE   \n",
      "\n",
      "                                                 content         region  \\\n",
      "0      People are too toxic. I think I have people po...  United States   \n",
      "1      #NowPlaying Don't Shoot (I'm a Man) by @DEVO -...  United States   \n",
      "2      the 'I'm the most boring person in the world' ...  United States   \n",
      "3      #MyAchillesHeel slippery floors https://t.co/R...  United States   \n",
      "4      #MyAchillesHeel Boring narcissists.....nothing...  United States   \n",
      "5      Your opinion on Hillary really matters to a no...  United States   \n",
      "6              #MyAchillesHeel Lilith from Frasier.  0_O  United States   \n",
      "7      Come find us at the national mall for the #DC ...  United States   \n",
      "8      #MyAchillesHeel  Trolling celebrities.  I have...  United States   \n",
      "9                       #MyAchillesHeel  Morbid comedy �  United States   \n",
      "10     #MyAchillesHeel  Yo momma in her Beyonce costume.  United States   \n",
      "11     #MyAchillesHeel a woman in heels https://t.co/...  United States   \n",
      "12     Sometimes seeing things in black and white. #M...  United States   \n",
      "13     Making horrible jokes that only 10% of people ...  United States   \n",
      "14     Came back to 2016 to stop horrific Graham vs O...  United States   \n",
      "15     Where did I leave my car takes on whole new me...  United States   \n",
      "16     #NameYourNaughtyBits Business in the front par...  United States   \n",
      "17     #HowYouWonThemOver I declared Thumb War, she d...  United States   \n",
      "18                           12 Hungry Men  #SpliffFilms  United States   \n",
      "19     #TimeTravelerProblems The Jurassic atmosphere ...  United States   \n",
      "20                             Toking aces  #SpliffFilms  United States   \n",
      "21     May your faith be unshakeable and your will, u...  United States   \n",
      "22     A town called alice springs #takeasongaroundth...  United States   \n",
      "23     Explaining time to humanoid Earth-dwellers... ...  United States   \n",
      "24              Argh! Beast dog. https://t.co/No7EAqtLZG  United States   \n",
      "25                    Rolling For Columbine #SpliffFilms  United States   \n",
      "26                   Outta my way! #UnitedStatesIn3Words  United States   \n",
      "27          Crazy. Beautiful. Love #UnitedStatesIn3Words  United States   \n",
      "28            #UnitedStatesIn3Words unfair, bossy, broke  United States   \n",
      "29     RT @midnight: Pack your boxes, tonight we're p...  United States   \n",
      "...                                                  ...            ...   \n",
      "37525  Фред Дерст планирует переехать в Россию http:/...        Unknown   \n",
      "37526  «22 сантиметра» на Жуковского http://t.co/kjPt...        Unknown   \n",
      "37527  Список богатейших рэперов мира от Forbes http:...        Unknown   \n",
      "37528                   Чехов жив http://t.co/TvDzvVX9FO        Unknown   \n",
      "37529  Закрытие сезона в Музее уличного искусства htt...        Unknown   \n",
      "37530  Россия сегодня запустила производство Lada Ves...        Unknown   \n",
      "37531  Suicide girls: Другая красота http://t.co/XaGo...        Unknown   \n",
      "37532  Как отличить реальную новость от фейка? http:/...        Unknown   \n",
      "37533      Фотограф Luke Pearsall http://t.co/J9tzz0Dqn5        Unknown   \n",
      "37534              Наука и борода http://t.co/7f8aBxVzL5        Unknown   \n",
      "37535  Правильный туризм или альтернатива надоевшей Т...        Unknown   \n",
      "37536  Учёные придумали, как заставить мороженое не т...        Unknown   \n",
      "37537  Квартира для молодой семьи в бывшей коммуналке...        Unknown   \n",
      "37538  Туристический бренд России http://t.co/INvINLxSuR        Unknown   \n",
      "37539  Camorra в Ковенском переулке http://t.co/SAiji...        Unknown   \n",
      "37540  Фестиваль ретротехники на форте «Константин» h...        Unknown   \n",
      "37541             Мужской джемпер http://t.co/N2vdsHOhkf        Unknown   \n",
      "37542  Как бороться с алкоголем в России? http://t.co...        Unknown   \n",
      "37543   Фотограф Alejandro Chanza http://t.co/qFs8VcusPQ        Unknown   \n",
      "37544  Обнаружена самая далёкая в истории галактика h...        Unknown   \n",
      "37545  Собака претендует на пост президента США http:...        Unknown   \n",
      "37546      Кофе: пить или не пить http://t.co/zRgdHfqwbY        Unknown   \n",
      "37547  «Парковка» - это место для вас http://t.co/NdQ...        Unknown   \n",
      "37548           Художник Шон Йоро http://t.co/S11YeVbFN1        Unknown   \n",
      "37549  Как путешествовать бесплатно? Спасать черепах ...        Unknown   \n",
      "37550       Санкционный пинг-понг http://t.co/Jz06cndR8q        Unknown   \n",
      "37551  Горизонтальный кальян NanoSmoke http://t.co/rL...        Unknown   \n",
      "37552  Фотограф Kai-Hendrik Schroeder http://t.co/q0x...        Unknown   \n",
      "37553  К чему стремится компания Netflix (США) http:/...        Unknown   \n",
      "37554  В Петербурге появилось вегетарианское кафе в к...        Unknown   \n",
      "\n",
      "        language     publish_date   harvested_date  following  followers  \\\n",
      "0        English  7/30/2016 20:15  7/30/2016 20:15       3395       2014   \n",
      "1        English  7/30/2016 20:15  7/30/2016 20:15       3395       2014   \n",
      "2        English  7/30/2016 20:16  7/30/2016 20:16       3395       2013   \n",
      "3      Norwegian  7/30/2016 20:16  7/30/2016 20:16       3395       2013   \n",
      "4        English  7/30/2016 20:16  7/30/2016 20:16       3395       2013   \n",
      "5        English  7/30/2016 20:16  7/30/2016 20:16       3395       2014   \n",
      "6        English  7/30/2016 20:16  7/30/2016 20:16       3395       2013   \n",
      "7        English  7/30/2016 20:16  7/30/2016 20:16       3395       2013   \n",
      "8        English  7/30/2016 20:17  7/30/2016 20:17       3395       2013   \n",
      "9        English  7/30/2016 20:17  7/30/2016 20:17       3395       2013   \n",
      "10       English  7/30/2016 20:17  7/30/2016 20:18       3395       2013   \n",
      "11       English  7/30/2016 20:17  7/30/2016 20:17       3395       2013   \n",
      "12       English  7/30/2016 20:17  7/30/2016 20:17       3395       2013   \n",
      "13       English  7/30/2016 20:17  7/30/2016 20:17       3395       2013   \n",
      "14       English   7/30/2016 9:01   7/30/2016 9:02       3017       1969   \n",
      "15       English   7/30/2016 9:07   7/30/2016 9:07       3017       1969   \n",
      "16       English   7/30/2016 9:22   7/30/2016 9:22       3017       1969   \n",
      "17       English   7/30/2016 9:22   7/30/2016 9:24       3017       1969   \n",
      "18       English   7/30/2016 9:22   7/30/2016 9:24       3017       1969   \n",
      "19       English   7/30/2016 9:22   7/30/2016 9:22       3017       1969   \n",
      "20       English   7/30/2016 9:23   7/30/2016 9:23       3017       1969   \n",
      "21       English   7/30/2016 9:35   7/30/2016 9:35       3017       1970   \n",
      "22       English   7/30/2016 9:36   7/30/2016 9:36       3017       1970   \n",
      "23       English   7/30/2016 9:36   7/30/2016 9:36       3017       1970   \n",
      "24       English   7/30/2016 9:36   7/30/2016 9:36       3017       1970   \n",
      "25       English   7/30/2016 9:36   7/30/2016 9:36       3017       1970   \n",
      "26       English   7/4/2015 14:52   7/4/2015 14:52        195        143   \n",
      "27       English   7/4/2015 14:55   7/4/2015 14:55        195        143   \n",
      "28       English   7/4/2015 15:00   7/4/2015 15:00        195        143   \n",
      "29       English   7/6/2016 10:36   7/6/2016 10:36       2698       1829   \n",
      "...          ...              ...              ...        ...        ...   \n",
      "37525    Russian    9/2/2015 1:24    9/2/2015 1:24         60          4   \n",
      "37526  Ukrainian  9/23/2015 11:00  9/23/2015 11:00         60          8   \n",
      "37527  Bulgarian  9/23/2015 14:01  9/23/2015 14:01         60          8   \n",
      "37528    Russian  9/25/2015 15:01  9/25/2015 15:01         60          8   \n",
      "37529    Russian  9/25/2015 19:54  9/25/2015 19:54         60          8   \n",
      "37530    Russian  9/25/2015 21:02  9/25/2015 21:03         60          8   \n",
      "37531  Bulgarian  9/26/2015 18:55  9/26/2015 18:56         60          8   \n",
      "37532    Russian  9/26/2015 20:22  9/26/2015 20:22         60          8   \n",
      "37533    Russian  9/29/2015 16:00  9/29/2015 16:01         60          9   \n",
      "37534    Russian  9/29/2015 18:00  9/29/2015 18:00         60          9   \n",
      "37535    Russian  9/29/2015 21:06  9/29/2015 21:06         60          9   \n",
      "37536    Russian    9/3/2015 1:27    9/3/2015 1:27         60          4   \n",
      "37537  Ukrainian  9/30/2015 18:50  9/30/2015 18:50         60          9   \n",
      "37538    Russian  9/30/2015 19:41  9/30/2015 19:41         60          9   \n",
      "37539    Serbian   9/5/2015 18:54   9/5/2015 18:54         60          4   \n",
      "37540  Ukrainian   9/5/2015 19:03   9/5/2015 19:03         60          4   \n",
      "37541    Russian   9/5/2015 19:23   9/5/2015 19:24         60          4   \n",
      "37542    Russian   9/5/2015 22:26   9/5/2015 22:26         60          4   \n",
      "37543    Russian   9/6/2015 16:01   9/6/2015 16:01         60          4   \n",
      "37544    Russian    9/6/2015 1:09    9/6/2015 1:09         60          4   \n",
      "37545  Bulgarian   9/6/2015 20:58   9/6/2015 20:58         60          4   \n",
      "37546  Ukrainian    9/6/2015 6:00    9/6/2015 6:00         60          4   \n",
      "37547  Ukrainian   9/7/2015 12:01   9/7/2015 12:01         60          4   \n",
      "37548    Russian   9/7/2015 16:01   9/7/2015 16:02         60          4   \n",
      "37549    Russian    9/7/2015 1:31    9/7/2015 1:32         60          4   \n",
      "37550      Uzbek    9/7/2015 1:31    9/7/2015 1:31         60          4   \n",
      "37551    Russian   9/8/2015 14:49   9/8/2015 14:49         60          4   \n",
      "37552    Russian   9/9/2015 18:52   9/9/2015 18:52         60          4   \n",
      "37553    Russian   9/9/2015 22:26   9/9/2015 22:27         60          4   \n",
      "37554    Russian    9/9/2015 8:17    9/9/2015 8:17         60          4   \n",
      "\n",
      "       updates post_type account_type  new_june_2018  retweet account_category  \n",
      "0         2150   RETWEET    Hashtager              0        1     HashtagGamer  \n",
      "1         2146   RETWEET    Hashtager              0        1     HashtagGamer  \n",
      "2         2159   RETWEET    Hashtager              0        1     HashtagGamer  \n",
      "3         2160   RETWEET    Hashtager              0        1     HashtagGamer  \n",
      "4         2158   RETWEET    Hashtager              0        1     HashtagGamer  \n",
      "5         2154   RETWEET    Hashtager              0        1     HashtagGamer  \n",
      "6         2156   RETWEET    Hashtager              0        1     HashtagGamer  \n",
      "7         2157   RETWEET    Hashtager              0        1     HashtagGamer  \n",
      "8         2161   RETWEET    Hashtager              0        1     HashtagGamer  \n",
      "9         2167   RETWEET    Hashtager              0        1     HashtagGamer  \n",
      "10        2169   RETWEET    Hashtager              0        1     HashtagGamer  \n",
      "11        2163   RETWEET    Hashtager              0        1     HashtagGamer  \n",
      "12        2162   RETWEET    Hashtager              0        1     HashtagGamer  \n",
      "13        2168   RETWEET    Hashtager              0        1     HashtagGamer  \n",
      "14        2074       NaN    Hashtager              0        0     HashtagGamer  \n",
      "15        2075       NaN    Hashtager              0        0     HashtagGamer  \n",
      "16        2078   RETWEET    Hashtager              0        1     HashtagGamer  \n",
      "17        2079   RETWEET    Hashtager              0        1     HashtagGamer  \n",
      "18        2077   RETWEET    Hashtager              0        1     HashtagGamer  \n",
      "19        2076   RETWEET    Hashtager              0        1     HashtagGamer  \n",
      "20        2080   RETWEET    Hashtager              0        1     HashtagGamer  \n",
      "21        2083   RETWEET    Hashtager              0        1     HashtagGamer  \n",
      "22        2086   RETWEET    Hashtager              0        1     HashtagGamer  \n",
      "23        2090   RETWEET    Hashtager              0        1     HashtagGamer  \n",
      "24        2089   RETWEET    Hashtager              0        1     HashtagGamer  \n",
      "25        2088   RETWEET    Hashtager              0        1     HashtagGamer  \n",
      "26         604       NaN    Hashtager              0        0     HashtagGamer  \n",
      "27         605       NaN    Hashtager              0        0     HashtagGamer  \n",
      "28         607       NaN    Hashtager              0        0     HashtagGamer  \n",
      "29        1936       NaN    Hashtager              0        0     HashtagGamer  \n",
      "...        ...       ...          ...            ...      ...              ...  \n",
      "37525      400       NaN      Russian              0        0       NonEnglish  \n",
      "37526      428       NaN      Russian              0        0       NonEnglish  \n",
      "37527      429       NaN      Russian              0        0       NonEnglish  \n",
      "37528      430       NaN      Russian              0        0       NonEnglish  \n",
      "37529      431       NaN      Russian              0        0       NonEnglish  \n",
      "37530      432       NaN      Russian              0        0       NonEnglish  \n",
      "37531      433       NaN      Russian              0        0       NonEnglish  \n",
      "37532      434       NaN      Russian              0        0       NonEnglish  \n",
      "37533      435       NaN      Russian              0        0       NonEnglish  \n",
      "37534      436       NaN      Russian              0        0       NonEnglish  \n",
      "37535      437       NaN      Russian              0        0       NonEnglish  \n",
      "37536      403       NaN      Russian              0        0       NonEnglish  \n",
      "37537      438       NaN      Russian              0        0       NonEnglish  \n",
      "37538      439       NaN      Russian              0        0       NonEnglish  \n",
      "37539      404       NaN      Russian              0        0       NonEnglish  \n",
      "37540      405       NaN      Russian              0        0       NonEnglish  \n",
      "37541      406       NaN      Russian              0        0       NonEnglish  \n",
      "37542      407       NaN      Russian              0        0       NonEnglish  \n",
      "37543      410       NaN      Russian              0        0       NonEnglish  \n",
      "37544      408       NaN      Russian              0        0       NonEnglish  \n",
      "37545      411       NaN      Russian              0        0       NonEnglish  \n",
      "37546      409       NaN      Russian              0        0       NonEnglish  \n",
      "37547      414       NaN      Russian              0        0       NonEnglish  \n",
      "37548      415       NaN      Russian              0        0       NonEnglish  \n",
      "37549      413       NaN      Russian              0        0       NonEnglish  \n",
      "37550      412       NaN      Russian              0        0       NonEnglish  \n",
      "37551      416       NaN      Russian              0        0       NonEnglish  \n",
      "37552      418       NaN      Russian              0        0       NonEnglish  \n",
      "37553      419       NaN      Russian              0        0       NonEnglish  \n",
      "37554      417       NaN      Russian              0        0       NonEnglish  \n",
      "\n",
      "[2973371 rows x 15 columns]\n"
     ]
    }
   ],
   "source": [
    "print frame"
   ]
  },
  {
   "cell_type": "code",
   "execution_count": 4,
   "metadata": {},
   "outputs": [
    {
     "name": "stdout",
     "output_type": "stream",
     "text": [
      "0          English\n",
      "1          English\n",
      "2          English\n",
      "3        Norwegian\n",
      "4          English\n",
      "5          English\n",
      "6          English\n",
      "7          English\n",
      "8          English\n",
      "9          English\n",
      "10         English\n",
      "11         English\n",
      "12         English\n",
      "13         English\n",
      "14         English\n",
      "15         English\n",
      "16         English\n",
      "17         English\n",
      "18         English\n",
      "19         English\n",
      "20         English\n",
      "21         English\n",
      "22         English\n",
      "23         English\n",
      "24         English\n",
      "25         English\n",
      "26         English\n",
      "27         English\n",
      "28         English\n",
      "29         English\n",
      "           ...    \n",
      "37525      Russian\n",
      "37526    Ukrainian\n",
      "37527    Bulgarian\n",
      "37528      Russian\n",
      "37529      Russian\n",
      "37530      Russian\n",
      "37531    Bulgarian\n",
      "37532      Russian\n",
      "37533      Russian\n",
      "37534      Russian\n",
      "37535      Russian\n",
      "37536      Russian\n",
      "37537    Ukrainian\n",
      "37538      Russian\n",
      "37539      Serbian\n",
      "37540    Ukrainian\n",
      "37541      Russian\n",
      "37542      Russian\n",
      "37543      Russian\n",
      "37544      Russian\n",
      "37545    Bulgarian\n",
      "37546    Ukrainian\n",
      "37547    Ukrainian\n",
      "37548      Russian\n",
      "37549      Russian\n",
      "37550        Uzbek\n",
      "37551      Russian\n",
      "37552      Russian\n",
      "37553      Russian\n",
      "37554      Russian\n",
      "Name: language, Length: 2973371, dtype: object\n"
     ]
    }
   ],
   "source": [
    "print frame[\"language\"]"
   ]
  },
  {
   "cell_type": "markdown",
   "metadata": {},
   "source": [
    "# Language\n",
    "\n",
    "We are trying to observe major languages used by Internet Reasearch Agency(IRA) for trolls. Below graph shows that most of trolls were in English but they tweet some trolls in Russian and German as well. German and other languages most probably are choosen becuase of high population in America."
   ]
  },
  {
   "cell_type": "code",
   "execution_count": 5,
   "metadata": {},
   "outputs": [
    {
     "data": {
      "text/plain": [
       "<matplotlib.axes._subplots.AxesSubplot at 0x10be38bd0>"
      ]
     },
     "execution_count": 5,
     "metadata": {},
     "output_type": "execute_result"
    },
    {
     "data": {
      "image/png": "[encoded data removed]",
      "text/plain": [
       "<matplotlib.figure.Figure at 0x10be38590>"
      ]
     },
     "metadata": {
      "needs_background": "light"
     },
     "output_type": "display_data"
    }
   ],
   "source": [
    "frame['language'].value_counts().head(3).plot(kind='bar')"
   ]
  },
  {
   "cell_type": "code",
   "execution_count": 6,
   "metadata": {},
   "outputs": [
    {
     "name": "stdout",
     "output_type": "stream",
     "text": [
      "English               2128963\n",
      "Russian                624124\n",
      "German                  87171\n",
      "Ukrainian               39361\n",
      "Italian                 18254\n",
      "Serbian                  9615\n",
      "Uzbek                    9491\n",
      "Bulgarian                9458\n",
      "LANGUAGE UNDEFINED       8325\n",
      "Arabic                   7595\n",
      "Name: language, dtype: int64\n"
     ]
    }
   ],
   "source": [
    "print frame['language'].value_counts().head(10)"
   ]
  },
  {
   "cell_type": "code",
   "execution_count": 7,
   "metadata": {},
   "outputs": [],
   "source": [
    "frame_users = frame[['author','language']]"
   ]
  },
  {
   "cell_type": "markdown",
   "metadata": {},
   "source": [
    "# Author and Their relation with language\n",
    "Most of the authors were bilingiual. Below stats show that authors who posted most tweets were majorly in English but not entirely English. They tweeted in other language as well."
   ]
  },
  {
   "cell_type": "code",
   "execution_count": 9,
   "metadata": {},
   "outputs": [
    {
     "data": {
      "text/plain": [
       "<matplotlib.axes._subplots.AxesSubplot at 0x11542c1d0>"
      ]
     },
     "execution_count": 9,
     "metadata": {},
     "output_type": "execute_result"
    },
    {
     "data": {
      "image/png": "[encoded data removed]",
      "text/plain": [
       "<matplotlib.figure.Figure at 0x115436cd0>"
      ]
     },
     "metadata": {
      "needs_background": "light"
     },
     "output_type": "display_data"
    }
   ],
   "source": [
    "frame_users['author'].value_counts().head(10).plot(kind='bar')"
   ]
  },
  {
   "cell_type": "code",
   "execution_count": 10,
   "metadata": {},
   "outputs": [
    {
     "name": "stdout",
     "output_type": "stream",
     "text": [
      "EXQUOTE            59652\n",
      "SCREAMYMONKEY      44041\n",
      "WORLDNEWSPOLI      36974\n",
      "AMELIEBALDWIN      35371\n",
      "TODAYPITTSBURGH    33602\n",
      "SPECIALAFFAIR      32588\n",
      "SEATTLE_POST       30800\n",
      "FINDDIET           29038\n",
      "KANSASDAILYNEWS    28890\n",
      "ROOMOFRUMOR        28360\n",
      "Name: author, dtype: int64\n"
     ]
    }
   ],
   "source": [
    "print frame_users['author'].value_counts().head(10)"
   ]
  },
  {
   "cell_type": "code",
   "execution_count": 11,
   "metadata": {},
   "outputs": [
    {
     "name": "stdout",
     "output_type": "stream",
     "text": [
      "Axes(0.125,0.125;0.775x0.755)\n"
     ]
    },
    {
     "data": {
      "image/png": "[encoded data removed]",
      "text/plain": [
       "<matplotlib.figure.Figure at 0x10c342350>"
      ]
     },
     "metadata": {
      "needs_background": "light"
     },
     "output_type": "display_data"
    }
   ],
   "source": [
    "print frame_users.query('language==\"English\"')['author'].value_counts().head(10).plot(kind='bar')"
   ]
  },
  {
   "cell_type": "code",
   "execution_count": 12,
   "metadata": {},
   "outputs": [
    {
     "name": "stdout",
     "output_type": "stream",
     "text": [
      "EXQUOTE            53636\n",
      "SCREAMYMONKEY      43996\n",
      "WORLDNEWSPOLI      36898\n",
      "AMELIEBALDWIN      34416\n",
      "TODAYPITTSBURGH    33377\n",
      "SPECIALAFFAIR      32447\n",
      "SEATTLE_POST       30687\n",
      "KANSASDAILYNEWS    28829\n",
      "ROOMOFRUMOR        28268\n",
      "DAILYSANFRAN       28042\n",
      "Name: author, dtype: int64\n"
     ]
    }
   ],
   "source": [
    "print frame_users.query('language==\"English\"')['author'].value_counts().head(10)"
   ]
  },
  {
   "cell_type": "code",
   "execution_count": 13,
   "metadata": {},
   "outputs": [
    {
     "name": "stdout",
     "output_type": "stream",
     "text": [
      "Axes(0.125,0.125;0.775x0.755)\n"
     ]
    },
    {
     "data": {
      "image/png": "[encoded data removed]",
      "text/plain": [
       "<matplotlib.figure.Figure at 0x139845110>"
      ]
     },
     "metadata": {
      "needs_background": "light"
     },
     "output_type": "display_data"
    }
   ],
   "source": [
    "print frame['account_category'].value_counts().plot(kind='bar')"
   ]
  },
  {
   "cell_type": "markdown",
   "metadata": {},
   "source": [
    "# Category\n",
    "Lastly we will observe the tweets categories. These categories gives us a fair idea that a lots of English tweets revoloved around Left , Right or News trolls. Retweeting fake news was a major propaganda among these trolls."
   ]
  },
  {
   "cell_type": "code",
   "execution_count": 14,
   "metadata": {},
   "outputs": [
    {
     "name": "stdout",
     "output_type": "stream",
     "text": [
      "NonEnglish      837725\n",
      "RightTroll      719087\n",
      "NewsFeed        599294\n",
      "LeftTroll       427811\n",
      "HashtagGamer    241827\n",
      "Commercial      122582\n",
      "Unknown          13905\n",
      "Fearmonger       11140\n",
      "Name: account_category, dtype: int64\n"
     ]
    }
   ],
   "source": [
    "print frame['account_category'].value_counts()"
   ]
  }
 ],
 "metadata": {
  "kernelspec": {
   "display_name": "Python 3",
   "language": "python",
   "name": "python3"
  },
  "language_info": {
   "codemirror_mode": {
    "name": "ipython",
    "version": 3
   },
   "file_extension": ".py",
   "mimetype": "text/x-python",
   "name": "python",
   "nbconvert_exporter": "python",
   "pygments_lexer": "ipython3",
   "version": "3.6.5"
  }
 },
 "nbformat": 4,
 "nbformat_minor": 2
}
